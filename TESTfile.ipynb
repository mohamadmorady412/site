{
  "nbformat": 4,
  "nbformat_minor": 0,
  "metadata": {
    "colab": {
      "provenance": [],
      "gpuType": "T4",
      "authorship_tag": "ABX9TyMbF4WDua+7jgCjoH40sEOu",
      "include_colab_link": true
    },
    "kernelspec": {
      "name": "python3",
      "display_name": "Python 3"
    },
    "language_info": {
      "name": "python"
    }
  },
  "cells": [
    {
      "cell_type": "markdown",
      "metadata": {
        "id": "view-in-github",
        "colab_type": "text"
      },
      "source": [
        "<a href=\"https://colab.research.google.com/github/mohamadmorady412/site/blob/main/TESTfile.ipynb\" target=\"_parent\"><img src=\"https://colab.research.google.com/assets/colab-badge.svg\" alt=\"Open In Colab\"/></a>"
      ]
    },
    {
      "cell_type": "markdown",
      "source": [
        "<<...........................................\n",
        "***This file is made for comprehensive testing of all activities***\n",
        "...........................................>>"
      ],
      "metadata": {
        "id": "_Qln2PmvTIYX"
      }
    },
    {
      "cell_type": "markdown",
      "source": [
        "**crab testing:**"
      ],
      "metadata": {
        "id": "L5pazuzPVkm2"
      }
    },
    {
      "cell_type": "code",
      "source": [
        "# none in time"
      ],
      "metadata": {
        "id": "w0sL9_i3VqD_"
      },
      "execution_count": null,
      "outputs": []
    },
    {
      "cell_type": "markdown",
      "source": [
        "**pip testing:**"
      ],
      "metadata": {
        "id": "btYiol0OUUdA"
      }
    },
    {
      "cell_type": "code",
      "source": [
        "# import neccesery pakage\n",
        "\n",
        "import cv2\n",
        "from google.colab.patches import cv2_imshow"
      ],
      "metadata": {
        "id": "wB1Vyk9AU4kj"
      },
      "execution_count": null,
      "outputs": []
    },
    {
      "cell_type": "code",
      "source": [
        "def Image_information_display(img_addres , resize='standard'):\n",
        "  img = cv2.imread(img_addres)\n",
        "\n",
        "  if resize != 'standard':\n",
        "    img = cv2.resize(img , resize)\n",
        "\n",
        "  print(\"width : {} pixsels\".format(img.shape[1]))\n",
        "  print(\"height : {} pixsels\".format(img.shape[0]))\n",
        "  print(\"chanels : {} pixsels\".format(img.shape[2]))\n",
        "\n",
        "  cv2_imshow(img)\n",
        "  cv2.waitKey(0)"
      ],
      "metadata": {
        "id": "KoepZ-RjVWPC"
      },
      "execution_count": null,
      "outputs": []
    },
    {
      "cell_type": "code",
      "source": [
        "Image_information_display('/content/Jowhareh_galleries_2_poster_7061de17-1759-4950-b41c-663b06fdc4df.jpeg' , (64,64))"
      ],
      "metadata": {
        "colab": {
          "base_uri": "https://localhost:8080/",
          "height": 133
        },
        "id": "G5W4f04DXnbl",
        "outputId": "5899f917-64a6-4305-85de-725dc871e5e1"
      },
      "execution_count": null,
      "outputs": [
        {
          "output_type": "stream",
          "name": "stdout",
          "text": [
            "width : 64 pixsels\n",
            "height : 64 pixsels\n",
            "chanels : 3 pixsels\n"
          ]
        },
        {
          "output_type": "display_data",
          "data": {
            "text/plain": [
              "<PIL.Image.Image image mode=RGB size=64x64>"
            ],
            "image/png": "[encoded data removed]"
          },
          "metadata": {}
        }
      ]
    }
  ]
}